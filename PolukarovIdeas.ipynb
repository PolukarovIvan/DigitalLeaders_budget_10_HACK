{
 "cells": [
  {
   "cell_type": "code",
   "execution_count": 26,
   "metadata": {},
   "outputs": [],
   "source": [
    "import os\n",
    "\n",
    "import pandas as pd\n",
    "import numpy as np\n",
    "\n",
    "import matplotlib.pyplot as plt\n",
    "%matplotlib inline\n",
    "\n",
    "import warnings\n",
    "warnings.filterwarnings('ignore')"
   ]
  },
  {
   "cell_type": "code",
   "execution_count": 27,
   "metadata": {},
   "outputs": [
    {
     "data": {
      "text/plain": [
       "['2010-2012.xls',\n",
       " '2011-2013.xls',\n",
       " '2012-2014.xls',\n",
       " '2013-2015.xls',\n",
       " '2014-2016.xls',\n",
       " '2015-2017.xls',\n",
       " '2016-2018.xls',\n",
       " '2017-2019.xls',\n",
       " '2018-2020.xls',\n",
       " '2019-2021.xls',\n",
       " '2020-2022.xls']"
      ]
     },
     "execution_count": 27,
     "metadata": {},
     "output_type": "execute_result"
    }
   ],
   "source": [
    "data_dir_pth = 'data'\n",
    "list_of_xls_fiels = os.listdir(data_dir_pth)\n",
    "list_of_xls_fiels"
   ]
  },
  {
   "cell_type": "code",
   "execution_count": 28,
   "metadata": {},
   "outputs": [
    {
     "name": "stdout",
     "output_type": "stream",
     "text": [
      "['2010-2012.xls', '2011-2013.xls', '2012-2014.xls', '2013-2015.xls', '2014-2016.xls', '2015-2017.xls', '2016-2018.xls', '2017-2019.xls', '2018-2020.xls', '2019-2021.xls', '2020-2022.xls']\n",
      "['2010-2012.xls', '2011-2013.xls', '2012-2014.xls', '2013-2015.xls', '2014-2016.xls', '2015-2017.xls', '2016-2018.xls', '2017-2019.xls', '2018-2020.xls', '2019-2021.xls', '2020-2022.xls']\n"
     ]
    }
   ],
   "source": [
    "list_of_xls_fiels = [xls_file_name[xls_file_name.find('2'): xls_file_name.find('2')+9]\n",
    "                     + '.xls' for xls_file_name in list_of_xls_fiels]\n",
    "\n",
    "# print(list_of_xls_fiels)\n",
    "\n",
    "for index, file_name in enumerate(os.listdir(data_dir_pth)):\n",
    "    os.rename(os.path.join(data_dir_pth, file_name),\n",
    "              os.path.join(data_dir_pth, list_of_xls_fiels[index]))\n",
    "    \n",
    "    \n",
    "print(os.listdir(data_dir_pth))"
   ]
  },
  {
   "cell_type": "code",
   "execution_count": null,
   "metadata": {},
   "outputs": [],
   "source": []
  }
 ],
 "metadata": {
  "kernelspec": {
   "display_name": "Python 3",
   "language": "python",
   "name": "python3"
  },
  "language_info": {
   "codemirror_mode": {
    "name": "ipython",
    "version": 3
   },
   "file_extension": ".py",
   "mimetype": "text/x-python",
   "name": "python",
   "nbconvert_exporter": "python",
   "pygments_lexer": "ipython3",
   "version": "3.7.4"
  }
 },
 "nbformat": 4,
 "nbformat_minor": 2
}
